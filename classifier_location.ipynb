{
 "cells": [
  {
   "cell_type": "code",
   "execution_count": 20,
   "id": "08e56bcd",
   "metadata": {},
   "outputs": [],
   "source": [
    "import pandas as pd\n",
    "import numpy as np\n",
    "import matplotlib.pyplot as plt\n",
    "import seaborn\n",
    "from sklearn.tree import DecisionTreeClassifier\n",
    "from sklearn.dummy import DummyClassifier\n",
    "from sklearn.model_selection import train_test_split\n",
    "from sklearn.metrics import mean_absolute_error\n",
    "from sklearn.metrics import accuracy_score\n",
    "from sklearn.tree import plot_tree\n",
    "from sklearn.metrics import accuracy_score, confusion_matrix, f1_score, classification_report\n",
    "from sklearn.neighbors import KNeighborsClassifier\n",
    "from sklearn.linear_model import LogisticRegression"
   ]
  },
  {
   "cell_type": "code",
   "execution_count": 26,
   "id": "34d10392",
   "metadata": {},
   "outputs": [
    {
     "name": "stdout",
     "output_type": "stream",
     "text": [
      "KNeighbors Accuracy_score:  0.9961401355721147\n",
      "KN f1 score:  0.9980663359455076\n",
      "KNeighbors confusion_matrix:  [[553574      0]\n",
      " [  2145      0]]\n"
     ]
    }
   ],
   "source": [
    "target = 'is_fraud'\n",
    "train_data = pd.read_csv('data/fraudTrain.csv', usecols=['zip', 'lat', 'long' , target])\n",
    "test_data = pd.read_csv('data/fraudTest.csv', usecols = ['zip', 'lat', 'long', target])\n",
    "features = ['zip', 'lat', 'long']\n",
    "\n",
    "\n",
    "x_train = train_data[features]\n",
    "y_train = train_data[target]\n",
    "\n",
    "x_test = test_data[features]\n",
    "y_test = test_data[target]\n",
    "\n",
    "def dummy(x, y, X, Y):\n",
    "    dclf = DummyClassifier(strategy = 'most_frequent', random_state = 0)\n",
    "    dclf.fit(x, y)\n",
    "    y_dclf = dclf.predict(X)\n",
    "    print('Dummy Accuracy: ', accuracy_score(Y, y_dclf))\n",
    "    print('Dummy f1 score: ', f1_score(Y, y_dclf, pos_label= 0))\n",
    "    print('Dummy confusion_matrix: ', confusion_matrix(Y, y_dclf))\n",
    "    \n",
    "    \n",
    "def KNeighbours(x, y, X, Y):\n",
    "    knc = KNeighborsClassifier(n_neighbors=100)\n",
    "    knc.fit(x,y)\n",
    "    y_knc = knc.predict(X)\n",
    "    print('KNeighbors Accuracy_score: ',accuracy_score(Y,y_knc))\n",
    "    print('KN f1 score: ', f1_score(Y, y_knc, pos_label= 0))\n",
    "    print('KNeighbors confusion_matrix: ', confusion_matrix(Y, y_knc)) \n",
    "    \n",
    "def decTree(x, y, X, Y):\n",
    "    dtc = DecisionTreeClassifier(min_samples_split=7, random_state=252)\n",
    "    dtc.fit(x,y)\n",
    "    y_dtc = dtc.predict(X)\n",
    "    print('Decision Tree Accuracy: ',accuracy_score(Y,y_dtc))\n",
    "    print('DT f1 score: ', f1_score(Y, y_dtc, pos_label= 0))\n",
    "    print('Decision Tree confusion_matrix: ', confusion_matrix(Y, y_dtc)) \n",
    "    \n",
    "KNeighbours(x_train, y_train, x_test, y_test)\n",
    "#lr = LogisticRegression()\n",
    "#lr.fit(x_train, y_train)\n",
    "#predictions = lr.predict(x_test)\n",
    "\n",
    "#cm = confusion_matrix(y_test, predictions)\n",
    "#print(cm)\n",
    "\n"
   ]
  },
  {
   "cell_type": "code",
   "execution_count": 29,
   "id": "9e633a60",
   "metadata": {
    "scrolled": true
   },
   "outputs": [
    {
     "data": {
      "text/plain": [
       "<AxesSubplot:xlabel='zip', ylabel='is_fraud'>"
      ]
     },
     "execution_count": 29,
     "metadata": {},
     "output_type": "execute_result"
    },
    {
     "data": {
      "image/png": "[encoded data removed]",
      "text/plain": [
       "<Figure size 432x288 with 1 Axes>"
      ]
     },
     "metadata": {
      "needs_background": "light"
     },
     "output_type": "display_data"
    }
   ],
   "source": [
    "test_data.plot(x = 'zip', y = target , kind = 'scatter')"
   ]
  },
  {
   "cell_type": "code",
   "execution_count": null,
   "id": "57f1dee0",
   "metadata": {},
   "outputs": [],
   "source": []
  }
 ],
 "metadata": {
  "kernelspec": {
   "display_name": "Python 3 (ipykernel)",
   "language": "python",
   "name": "python3"
  },
  "language_info": {
   "codemirror_mode": {
    "name": "ipython",
    "version": 3
   },
   "file_extension": ".py",
   "mimetype": "text/x-python",
   "name": "python",
   "nbconvert_exporter": "python",
   "pygments_lexer": "ipython3",
   "version": "3.9.7"
  }
 },
 "nbformat": 4,
 "nbformat_minor": 5
}
